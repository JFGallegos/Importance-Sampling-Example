{
 "cells": [
  {
   "cell_type": "markdown",
   "metadata": {},
   "source": [
    "## Importance Sampling "
   ]
  },
  {
   "cell_type": "code",
   "execution_count": 2,
   "metadata": {},
   "outputs": [],
   "source": [
    "import numpy as np\n",
    "import matplotlib.pyplot as plt\n",
    "import random\n",
    "from scipy.stats import uniform"
   ]
  },
  {
   "cell_type": "markdown",
   "metadata": {},
   "source": [
    "The expected value of the variable x is : $$ E[x] = \\sum_{i=1}^n p(x_i)  x_i  $$"
   ]
  },
  {
   "cell_type": "markdown",
   "metadata": {},
   "source": [
    "Let's suppose that we have the following distribution of a dice where for each realistation of $x_i$ we have: $$ f(x_i) = \\frac{1}{6} $$\n",
    "\n",
    "Where the expected value is :\n",
    "\n",
    "$$ E_{f}[x] = \\sum_{i=1}^n x_i * f(x_i) = \\frac {1}{n}\\sum_{i=1}^n x_i $$\n",
    "\n",
    "\n"
   ]
  },
  {
   "cell_type": "code",
   "execution_count": 3,
   "metadata": {},
   "outputs": [],
   "source": [
    "## Let's build the probabilities\n",
    "\n",
    "x = np.array(range(1,7))\n",
    "\n",
    "p = 1/6 \n",
    "\n",
    "p_x = np.repeat(p,6)\n"
   ]
  },
  {
   "cell_type": "code",
   "execution_count": 40,
   "metadata": {},
   "outputs": [
    {
     "name": "stdout",
     "output_type": "stream",
     "text": [
      "Expected value of the unbiaced dice:  3.5\n"
     ]
    },
    {
     "data": {
      "image/png": "[encoded data removed]",
      "text/plain": [
       "<Figure size 432x288 with 1 Axes>"
      ]
     },
     "metadata": {
      "needs_background": "light"
     },
     "output_type": "display_data"
    }
   ],
   "source": [
    "## Plot the weighted probabilities \n",
    "\n",
    "plt.bar(x,p)\n",
    "plt.ylabel('f(x)')\n",
    "plt.xlabel('x')\n",
    "plt.title(\"Unbiaced dice probability distribution\")\n",
    "\n",
    "## Compute the expected value\n",
    "\n",
    "mean_unbiased_dice = np.sum(p_x * x)\n",
    "\n",
    "print(\"Expected value of the unbiaced dice: \", mean_unbiased_dice)\n"
   ]
  },
  {
   "cell_type": "markdown",
   "metadata": {},
   "source": [
    "Now let's suppose that we have a different biased dice with the following probabilities $g(x)$: \n",
    "\n",
    "$$ p(x = 1) = \\frac{3}{6} $$\n",
    "$$ p(x = 2) = \\frac{1}{6} $$\n",
    "$$ p(x = 3) = \\frac{.5}{6} $$\n",
    "$$ p(x = 4) = \\frac{.5}{6} $$\n",
    "$$ p(x = 5) = \\frac{.5}{6} $$\n",
    "$$ p(x = 6 ) = \\frac{.5}{6} $$\n",
    "\n",
    "Hence, the expected value is :\n",
    "\n",
    "$$ E_g[x] = \\sum_{i=1}^n x_i * g(x_i)  $$\n",
    "\n",
    "\n",
    "\n"
   ]
  },
  {
   "cell_type": "code",
   "execution_count": 7,
   "metadata": {},
   "outputs": [],
   "source": [
    "## Let's build the probabilities\n",
    "p_x_w = (3/6,1/6,.5/6,.5/6,.5/6,.5/6)"
   ]
  },
  {
   "cell_type": "code",
   "execution_count": 61,
   "metadata": {},
   "outputs": [
    {
     "name": "stdout",
     "output_type": "stream",
     "text": [
      "Expected value of the biased dice:  2.333333333333333\n"
     ]
    },
    {
     "data": {
      "image/png": "[encoded data removed]",
      "text/plain": [
       "<Figure size 432x288 with 1 Axes>"
      ]
     },
     "metadata": {
      "needs_background": "light"
     },
     "output_type": "display_data"
    }
   ],
   "source": [
    "## Plot the weighted probabilities \n",
    "\n",
    "plt.bar(x,p_x_w)\n",
    "plt.ylabel('g(x)')\n",
    "plt.xlabel('x')\n",
    "plt.title(\"Biased dice probability distribution\")\n",
    "\n",
    "## Compute the expected value\n",
    "\n",
    "mean_biased_dice = np.sum(p_x_w * x)\n",
    "\n",
    "print(\"Expected value of the biased dice: \", mean_biased_dice)\n"
   ]
  },
  {
   "cell_type": "markdown",
   "metadata": {},
   "source": [
    "First, let's simulate the random rolling of the unbaised dice for n trails"
   ]
  },
  {
   "cell_type": "code",
   "execution_count": 63,
   "metadata": {},
   "outputs": [],
   "source": [
    "##Let's verify how it will converge to the expected value 3.5\n",
    "\n",
    "## This is the function to compute the expected value \n",
    "\n",
    "def exp_value(n):\n",
    "    \n",
    "    \"\"\"\n",
    "    \n",
    "        Estimates the expected value of the probability of rolling a unbaised dice n times\n",
    "        \n",
    "        Inputs:\n",
    "            n: number of experiments\n",
    "        \n",
    "        Returns:\n",
    "            trails: [1xn] vector with the numbering of n experiments realized\n",
    "            expected_value: [1xn] vector with the expected value for the n experiment realized\n",
    "            \n",
    "    \"\"\"\n",
    "    \n",
    "    \n",
    "    trails = []\n",
    "    \n",
    "    expected_value = []\n",
    "\n",
    "    total = 0\n",
    "\n",
    "    for i in range(0,n):\n",
    "\n",
    "        value = random.randint(1,6)\n",
    "\n",
    "        total += value\n",
    "\n",
    "        n = (i+1)\n",
    "        \n",
    "        exp = total/n\n",
    "        \n",
    "        expected_value.append(exp)\n",
    "        \n",
    "        trails.append(n)\n",
    "\n",
    "        #expected_value[0][i] = total/n\n",
    "        \n",
    "    return trails, expected_value\n",
    "\n"
   ]
  },
  {
   "cell_type": "code",
   "execution_count": 64,
   "metadata": {},
   "outputs": [
    {
     "data": {
      "text/plain": [
       "Text(0.5, 1.0, ' Expected value of rolling an unbaised n times')"
      ]
     },
     "execution_count": 64,
     "metadata": {},
     "output_type": "execute_result"
    },
    {
     "data": {
      "image/png": "[encoded data removed]",
      "text/plain": [
       "<Figure size 432x288 with 1 Axes>"
      ]
     },
     "metadata": {
      "needs_background": "light"
     },
     "output_type": "display_data"
    }
   ],
   "source": [
    "## Lets roll the dice for n times\n",
    "\n",
    "y = exp_value(10000)\n",
    "\n",
    "\n",
    "plt.plot(y[0], y[1])\n",
    "plt.axhline(y=3.5, color='r', linestyle='-')\n",
    "plt.ylabel('$E_f[X]$')\n",
    "plt.xlabel('n')\n",
    "plt.title(\" Expected value of rolling an unbaised n times\")\n"
   ]
  },
  {
   "cell_type": "markdown",
   "metadata": {},
   "source": [
    "Now let's suppose that we want to approximate the probability of the biased dice, having only access to the fair dice. We can use importance sampling to solve the problem and this is the proof:\n",
    "\n",
    "$$E_g[x] = \\sum_{i=1}^n x_i * g(x_i) =  \\sum_{i=1}^n {x_i} \\frac{g(x_i)}{f(x_i)} * f(x_i) = \\frac{1}{n} \\sum_{i=1}^n {x_i} * \\frac{g(x_i)}{f(x_i)} =  E_f\\left[x * \\frac{g(x)}{f(x)}\\right] $$"
   ]
  },
  {
   "cell_type": "markdown",
   "metadata": {},
   "source": [
    "For this we need to compute the weighting ratio $\\frac{g(x_i)}{f(x_i)}$"
   ]
  },
  {
   "cell_type": "code",
   "execution_count": 70,
   "metadata": {},
   "outputs": [],
   "source": [
    "## Vector with the weighted probabilities\n",
    "\n",
    "weighting_ratio = p_x_w/p_x"
   ]
  },
  {
   "cell_type": "code",
   "execution_count": 69,
   "metadata": {},
   "outputs": [
    {
     "data": {
      "text/plain": [
       "Text(0.5, 1.0, 'Probabilities using the weighted ratio')"
      ]
     },
     "execution_count": 69,
     "metadata": {},
     "output_type": "execute_result"
    },
    {
     "data": {
      "image/png": "[encoded data removed]",
      "text/plain": [
       "<Figure size 432x288 with 1 Axes>"
      ]
     },
     "metadata": {
      "needs_background": "light"
     },
     "output_type": "display_data"
    }
   ],
   "source": [
    "## Plot the weighted ratios probabilities\n",
    "\n",
    "plt.bar(x,weighting_ratio)\n",
    "plt.ylabel('Probability of x using weighted ratio')\n",
    "plt.xlabel('x')\n",
    "plt.title(\"Probabilities using the weighted ratio\")"
   ]
  },
  {
   "cell_type": "code",
   "execution_count": 71,
   "metadata": {},
   "outputs": [],
   "source": [
    "## Let's build the importance sampling function\n",
    "\n",
    "def importance_sampling(n):\n",
    "    \n",
    "    \"\"\"\n",
    "\n",
    "        Estimates the expected value of the probability of rolling a baised dice n times using importance sampling\n",
    "\n",
    "        Inputs:\n",
    "            n: number of experiments\n",
    "\n",
    "        Returns:\n",
    "            importance_trails: [1xn] vector with the numbering of n experiments realized\n",
    "            importance_expected_value: [1xn] vector with the expected value for the n experiments realized\n",
    "\n",
    "    \"\"\"\n",
    "      \n",
    "    importance_trails = []\n",
    "\n",
    "    importance_expected_value = []\n",
    "\n",
    "    total = 0\n",
    "\n",
    "    for i in range(0,n):\n",
    "\n",
    "        ## Fist we roll the unbiased dice, I.e., from f(x)\n",
    "\n",
    "        value = random.randint(1,6)\n",
    "\n",
    "        ## Multiply the value by its respective weighting g(x)/f(x)\n",
    "\n",
    "        weighted_value = weighting_ratio[value-1] * value\n",
    "        \n",
    "        total += weighted_value\n",
    "        \n",
    "        n = (i+1)\n",
    "        \n",
    "        exp = total/n\n",
    "        \n",
    "        importance_expected_value.append(exp)\n",
    "        \n",
    "        importance_trails.append(n)\n",
    "        \n",
    "    return importance_trails, importance_expected_value\n",
    "        \n",
    "\n",
    "\n"
   ]
  },
  {
   "cell_type": "code",
   "execution_count": 72,
   "metadata": {},
   "outputs": [
    {
     "data": {
      "text/plain": [
       "Text(0.5, 1.0, 'Use importance sampling to approximate the expected value of the biased dice')"
      ]
     },
     "execution_count": 72,
     "metadata": {},
     "output_type": "execute_result"
    },
    {
     "data": {
      "image/png": "[encoded data removed]",
      "text/plain": [
       "<Figure size 432x288 with 1 Axes>"
      ]
     },
     "metadata": {
      "needs_background": "light"
     },
     "output_type": "display_data"
    }
   ],
   "source": [
    "## Lets roll the dice for n times\n",
    "\n",
    "y = importance_sampling(1000)\n",
    "\n",
    "plt.plot(y[0], y[1])\n",
    "plt.axhline(y=mean_biased_dice, color='r', linestyle='-')\n",
    "plt.ylabel('$E[X]$')\n",
    "plt.xlabel('n')\n",
    "plt.title(\"Use importance sampling to approximate the expected value of the biased dice\")\n",
    "\n"
   ]
  },
  {
   "cell_type": "code",
   "execution_count": null,
   "metadata": {},
   "outputs": [],
   "source": []
  }
 ],
 "metadata": {
  "kernelspec": {
   "display_name": "Python 3",
   "language": "python",
   "name": "python3"
  },
  "language_info": {
   "codemirror_mode": {
    "name": "ipython",
    "version": 3
   },
   "file_extension": ".py",
   "mimetype": "text/x-python",
   "name": "python",
   "nbconvert_exporter": "python",
   "pygments_lexer": "ipython3",
   "version": "3.7.4"
  }
 },
 "nbformat": 4,
 "nbformat_minor": 4
}
